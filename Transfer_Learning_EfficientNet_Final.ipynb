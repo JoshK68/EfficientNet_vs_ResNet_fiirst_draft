{
  "nbformat": 4,
  "nbformat_minor": 0,
  "metadata": {
    "colab": {
      "name": "Transfer_Learning_EfficientNet_Final.ipynb",
      "provenance": [],
      "authorship_tag": "ABX9TyNnH4SDO4x7y5un69hnyie2",
      "include_colab_link": true
    },
    "kernelspec": {
      "name": "python3",
      "display_name": "Python 3"
    },
    "language_info": {
      "name": "python"
    },
    "accelerator": "GPU"
  },
  "cells": [
    {
      "cell_type": "markdown",
      "metadata": {
        "id": "view-in-github",
        "colab_type": "text"
      },
      "source": [
        "<a href=\"https://colab.research.google.com/github/JoshKonoff/EfficientNet_vs_ResNet_fiirst_draft/blob/main/Transfer_Learning_EfficientNet_Final.ipynb\" target=\"_parent\"><img src=\"https://colab.research.google.com/assets/colab-badge.svg\" alt=\"Open In Colab\"/></a>"
      ]
    },
    {
      "cell_type": "code",
      "metadata": {
        "id": "mOAhwh_T9AOn",
        "colab": {
          "base_uri": "https://localhost:8080/"
        },
        "outputId": "a780f139-f488-48bc-e880-1b1cca01d002"
      },
      "source": [
        "!nvidia-smi"
      ],
      "execution_count": 1,
      "outputs": [
        {
          "output_type": "stream",
          "text": [
            "Tue Jul 27 02:31:32 2021       \n",
            "+-----------------------------------------------------------------------------+\n",
            "| NVIDIA-SMI 470.42.01    Driver Version: 460.32.03    CUDA Version: 11.2     |\n",
            "|-------------------------------+----------------------+----------------------+\n",
            "| GPU  Name        Persistence-M| Bus-Id        Disp.A | Volatile Uncorr. ECC |\n",
            "| Fan  Temp  Perf  Pwr:Usage/Cap|         Memory-Usage | GPU-Util  Compute M. |\n",
            "|                               |                      |               MIG M. |\n",
            "|===============================+======================+======================|\n",
            "|   0  Tesla P100-PCIE...  Off  | 00000000:00:04.0 Off |                    0 |\n",
            "| N/A   34C    P0    27W / 250W |      0MiB / 16280MiB |      0%      Default |\n",
            "|                               |                      |                  N/A |\n",
            "+-------------------------------+----------------------+----------------------+\n",
            "                                                                               \n",
            "+-----------------------------------------------------------------------------+\n",
            "| Processes:                                                                  |\n",
            "|  GPU   GI   CI        PID   Type   Process name                  GPU Memory |\n",
            "|        ID   ID                                                   Usage      |\n",
            "|=============================================================================|\n",
            "|  No running processes found                                                 |\n",
            "+-----------------------------------------------------------------------------+\n"
          ],
          "name": "stdout"
        }
      ]
    },
    {
      "cell_type": "code",
      "metadata": {
        "id": "oXCEyAAz9su7"
      },
      "source": [
        "#Get data\n",
        "import zipfile\n",
        "\n",
        "#Download the data\n",
        "!wget -q https://storage.googleapis.com/ztm_tf_course/food_vision/10_food_classes_10_percent.zip\n",
        "\n",
        "#Unzip the downloaded file\n",
        "zip_ref = zipfile.ZipFile('10_food_classes_10_percent.zip')\n",
        "zip_ref.extractall()\n",
        "zip_ref.close()"
      ],
      "execution_count": 2,
      "outputs": []
    },
    {
      "cell_type": "code",
      "metadata": {
        "colab": {
          "base_uri": "https://localhost:8080/"
        },
        "id": "tjJ62kc--aBs",
        "outputId": "e3ee2e2e-39e5-46f3-db5f-5ae7b7c3498e"
      },
      "source": [
        "# How many images in each folder?\n",
        "import os\n",
        "\n",
        "#Walk through 10 percent data directory and list number of files\n",
        "for dirpath, dirnames, filenames in os.walk('10_food_classes_10_percent'):\n",
        "  print(f'There are {len(dirnames)} directories and {len(filenames)} images in {dirpath}')"
      ],
      "execution_count": 3,
      "outputs": [
        {
          "output_type": "stream",
          "text": [
            "There are 2 directories and 0 images in 10_food_classes_10_percent\n",
            "There are 10 directories and 0 images in 10_food_classes_10_percent/train\n",
            "There are 0 directories and 75 images in 10_food_classes_10_percent/train/pizza\n",
            "There are 0 directories and 75 images in 10_food_classes_10_percent/train/hamburger\n",
            "There are 0 directories and 75 images in 10_food_classes_10_percent/train/fried_rice\n",
            "There are 0 directories and 75 images in 10_food_classes_10_percent/train/chicken_wings\n",
            "There are 0 directories and 75 images in 10_food_classes_10_percent/train/grilled_salmon\n",
            "There are 0 directories and 75 images in 10_food_classes_10_percent/train/ice_cream\n",
            "There are 0 directories and 75 images in 10_food_classes_10_percent/train/chicken_curry\n",
            "There are 0 directories and 75 images in 10_food_classes_10_percent/train/sushi\n",
            "There are 0 directories and 75 images in 10_food_classes_10_percent/train/steak\n",
            "There are 0 directories and 75 images in 10_food_classes_10_percent/train/ramen\n",
            "There are 10 directories and 0 images in 10_food_classes_10_percent/test\n",
            "There are 0 directories and 250 images in 10_food_classes_10_percent/test/pizza\n",
            "There are 0 directories and 250 images in 10_food_classes_10_percent/test/hamburger\n",
            "There are 0 directories and 250 images in 10_food_classes_10_percent/test/fried_rice\n",
            "There are 0 directories and 250 images in 10_food_classes_10_percent/test/chicken_wings\n",
            "There are 0 directories and 250 images in 10_food_classes_10_percent/test/grilled_salmon\n",
            "There are 0 directories and 250 images in 10_food_classes_10_percent/test/ice_cream\n",
            "There are 0 directories and 250 images in 10_food_classes_10_percent/test/chicken_curry\n",
            "There are 0 directories and 250 images in 10_food_classes_10_percent/test/sushi\n",
            "There are 0 directories and 250 images in 10_food_classes_10_percent/test/steak\n",
            "There are 0 directories and 250 images in 10_food_classes_10_percent/test/ramen\n"
          ],
          "name": "stdout"
        }
      ]
    },
    {
      "cell_type": "code",
      "metadata": {
        "id": "bXFWMvmO_Qaf"
      },
      "source": [
        "#There are less training images (only 75) but the same amount of test images"
      ],
      "execution_count": 4,
      "outputs": []
    },
    {
      "cell_type": "code",
      "metadata": {
        "id": "XFAFbCKA_cQx"
      },
      "source": [
        "#Load and then prep the data\n",
        "\n",
        "#We'll use the ImageDataGenerator class to load in our images in batches"
      ],
      "execution_count": 5,
      "outputs": []
    },
    {
      "cell_type": "code",
      "metadata": {
        "id": "Wzo0TMGN_lEp"
      },
      "source": [
        "#Import ImageDataGenertor\n",
        "\n",
        "from tensorflow.keras.preprocessing.image import ImageDataGenerator"
      ],
      "execution_count": 6,
      "outputs": []
    },
    {
      "cell_type": "code",
      "metadata": {
        "colab": {
          "base_uri": "https://localhost:8080/"
        },
        "id": "ZQ9kG3Lu_5kb",
        "outputId": "a3b91003-1188-40c6-bf39-8909b89562c8"
      },
      "source": [
        "### Set up the Image_shape and Bathch_Size global variables for multiples uses later\n",
        "\n",
        "IMAGE_SHAPE = (224,224)\n",
        "BATCH_SIZE = 32\n",
        "\n",
        "train_dir = '10_food_classes_10_percent/train/'\n",
        "test_dir = '10_food_classes_10_percent/test'\n",
        "\n",
        "train_datagen = ImageDataGenerator(rescale=1/255.) #to normalize the data in a moment\n",
        "test_datagen = ImageDataGenerator(rescale=1/255.)\n",
        "\n",
        "print('Training images:')\n",
        "train_data_10_percent = train_datagen.flow_from_directory(train_dir,\n",
        "                                                          target_size=IMAGE_SHAPE,\n",
        "                                                          batch_size=BATCH_SIZE,\n",
        "                                                          class_mode='categorical')\n",
        "\n",
        "print('Testing images: ')\n",
        "test_data = test_datagen.flow_from_directory(test_dir,\n",
        "                                             target_size=IMAGE_SHAPE,\n",
        "                                             batch_size=BATCH_SIZE,\n",
        "                                             class_mode='categorical')"
      ],
      "execution_count": 7,
      "outputs": [
        {
          "output_type": "stream",
          "text": [
            "Training images:\n",
            "Found 750 images belonging to 10 classes.\n",
            "Testing images: \n",
            "Found 2500 images belonging to 10 classes.\n"
          ],
          "name": "stdout"
        }
      ]
    },
    {
      "cell_type": "code",
      "metadata": {
        "id": "u0xDelBfBrzW"
      },
      "source": [
        "#We have 10X less training data to find patterns on :(\n",
        "#How can we use transfer learning to get exceptional results anyway?"
      ],
      "execution_count": 8,
      "outputs": []
    },
    {
      "cell_type": "code",
      "metadata": {
        "id": "up-NffcTBtsD"
      },
      "source": [
        "#Setting up callbacks (things to run whilst our model trains)\n",
        "\n",
        "#Callback are extra functionality you can add to your models\n",
        "\n",
        "#1. Tracking experiments with TensorBoart callback\n",
        "\n",
        "#2. Model checkpointing - with the ModelCheckpoint callbacks - save your model as it trains - helpful when you can't train everything in one sitting\n",
        "\n",
        "#3. Early stopping - Stopping a model from training (before it trains too long and overfits).\n",
        "#Your model will cease to trian when it stops improviding"
      ],
      "execution_count": 9,
      "outputs": []
    },
    {
      "cell_type": "code",
      "metadata": {
        "id": "5Xgs1UzXCkR2"
      },
      "source": [
        "# Create TensorBoard callback - (let's functionize it so that we can create a new one for each model)\n",
        "\n",
        "import datetime #b/c we're going to use a timestamp for when our model was run\n",
        "#ex: we ran our model last Wednesday\n",
        "\n",
        "#experiment name - say we wnat model_3 as our experiement 0- we could set it as our experiement\n",
        "\n",
        "def create_tensorboard_callback(dir_name, experiment_name):\n",
        "  log_dir = dir_name + '/' + experiment_name + '/' + datetime.datetime.now().strftime(\"%Y%m%d-%H%M%S\")\n",
        "  tensorboard_callback = tf.keras.callbacks.TensorBoard(\n",
        "      log_dir=log_dir\n",
        "  )\n",
        "\n",
        "  print(f'Saving TensorBoard log files to {log_dir}')\n",
        "  return tensorboard_callback"
      ],
      "execution_count": 29,
      "outputs": []
    },
    {
      "cell_type": "code",
      "metadata": {
        "id": "ne2EnS3GEjdZ"
      },
      "source": [
        "#In the past we created our own models layer by layer from sratch\n",
        "\n",
        "###Now we're use TensorFlow Hub and paperswithcode.com to grab powerful pre-made models\n",
        "#such as EfficientNet and resnet"
      ],
      "execution_count": 11,
      "outputs": []
    },
    {
      "cell_type": "code",
      "metadata": {
        "id": "mwFeWh9qFAtN"
      },
      "source": [
        "#Let's compare the following two models\n",
        "\n",
        "# Resnet 50 V2 feature vector\n",
        "resnet_url = \"https://tfhub.dev/google/imagenet/resnet_v2_50/feature_vector/4\"\n",
        "\n",
        "# EfficientNet0 feature vector\n",
        "efficientnet_url = \"https://tfhub.dev/tensorflow/efficientnet/b0/feature-vector/1\""
      ],
      "execution_count": 12,
      "outputs": []
    },
    {
      "cell_type": "code",
      "metadata": {
        "id": "vqCFkOYZFHV0"
      },
      "source": [
        "#We're working on image classification - so let's look for an efficientnet model trained for images\n",
        "#TF Hub makes using a pre-trained model as simple as calling a URL"
      ],
      "execution_count": 13,
      "outputs": []
    },
    {
      "cell_type": "code",
      "metadata": {
        "id": "CifP7eHrFXp_"
      },
      "source": [
        "#Import dependencies\n",
        "\n",
        "import tensorflow as tf\n",
        "import tensorflow_hub as hub\n",
        "from tensorflow.keras import layers"
      ],
      "execution_count": 14,
      "outputs": []
    },
    {
      "cell_type": "code",
      "metadata": {
        "id": "FjbRkiypF1RD"
      },
      "source": [
        "#In the past we created a ton of functions form scratch - let's start to functionize it\n",
        "#Let's make a create_model() function to create a model from a URL\n",
        "#What will we need? We'll need a model_url, num_classes - how many classes are we working with\n",
        "\n",
        "def create_model(model_url, num_classes=10):\n",
        "  '''Takes a TensorFlow Hub URL and creates a Keras Sequential model with it.\n",
        "\n",
        "  Args:\n",
        "  model_url (str): A TF Hub feature extraction URL.\n",
        "  num_classes(int): Number of output neurons in the outlayer,\n",
        "  should be equal to number of target classes, default 10.\n",
        "\n",
        "  Returns:\n",
        "  An uncopiled Keras Sequential model with model_url as feature extractor\n",
        "  layer and Dense output layer with num_classes output neurons\n",
        "  '''\n",
        "\n",
        "  #Download the pretrained model and save it as a Keras layer\n",
        "  #On TF hub all the models have example usage\n",
        "  #freeze the already learned patterns - these model have laready ben trained on ImageNet\n",
        "  #give it a name so that we know what it is\n",
        "  feature_extractor_layer = hub.KerasLayer(model_url,\n",
        "                                           trainable=False,\n",
        "                                           name='feature_extraction_layer',\n",
        "                                           input_shape = IMAGE_SHAPE +(3,)) ### Image_shape + color channels\n",
        "\n",
        "  #Create our own model\n",
        "  model = tf.keras.Sequential([\n",
        "                               feature_extractor_layer,\n",
        "                               layers.Dense(num_classes, activation='softmax', name='output_layer')\n",
        "                              \n",
        "  ])\n",
        "\n",
        "  return model\n"
      ],
      "execution_count": 15,
      "outputs": []
    },
    {
      "cell_type": "code",
      "metadata": {
        "id": "6KtWHyb7Hg3O"
      },
      "source": [
        "### Our above model is only ~5 lines of code"
      ],
      "execution_count": 16,
      "outputs": []
    },
    {
      "cell_type": "code",
      "metadata": {
        "colab": {
          "base_uri": "https://localhost:8080/"
        },
        "id": "Ka7ZtXi5Hl1X",
        "outputId": "6310afc0-231a-462c-c6fa-19a81498d98d"
      },
      "source": [
        "IMAGE_SHAPE+(3,)"
      ],
      "execution_count": 17,
      "outputs": [
        {
          "output_type": "execute_result",
          "data": {
            "text/plain": [
              "(224, 224, 3)"
            ]
          },
          "metadata": {
            "tags": []
          },
          "execution_count": 17
        }
      ]
    },
    {
      "cell_type": "markdown",
      "metadata": {
        "id": "yfTFu7T1H0Fb"
      },
      "source": [
        "Creating and testing ResNet TensorFlow Hub Feature Extraction model"
      ]
    },
    {
      "cell_type": "code",
      "metadata": {
        "id": "y2iuSuaM0DsR"
      },
      "source": [
        "#Create Resnet model\n",
        "resnet_model = create_model(resnet_url, num_classes=train_data_10_percent.num_classes) ####train_data_10_percent.num_classes - we could have just left it as 10"
      ],
      "execution_count": 19,
      "outputs": []
    },
    {
      "cell_type": "code",
      "metadata": {
        "colab": {
          "base_uri": "https://localhost:8080/"
        },
        "id": "42cGit850cco",
        "outputId": "308adfb4-4de8-475f-bdb2-0e25e7b0149b"
      },
      "source": [
        "train_data_10_percent.num_classes"
      ],
      "execution_count": 20,
      "outputs": [
        {
          "output_type": "execute_result",
          "data": {
            "text/plain": [
              "10"
            ]
          },
          "metadata": {
            "tags": []
          },
          "execution_count": 20
        }
      ]
    },
    {
      "cell_type": "code",
      "metadata": {
        "colab": {
          "base_uri": "https://localhost:8080/"
        },
        "id": "tD0Jy6oO0fnt",
        "outputId": "7c36775e-3ddc-42a4-936f-b49743626f41"
      },
      "source": [
        "resnet_model.summary()"
      ],
      "execution_count": 21,
      "outputs": [
        {
          "output_type": "stream",
          "text": [
            "Model: \"sequential\"\n",
            "_________________________________________________________________\n",
            "Layer (type)                 Output Shape              Param #   \n",
            "=================================================================\n",
            "feature_extraction_layer (Ke (None, 2048)              23564800  \n",
            "_________________________________________________________________\n",
            "output_layer (Dense)         (None, 10)                20490     \n",
            "=================================================================\n",
            "Total params: 23,585,290\n",
            "Trainable params: 20,490\n",
            "Non-trainable params: 23,564,800\n",
            "_________________________________________________________________\n"
          ],
          "name": "stdout"
        }
      ]
    },
    {
      "cell_type": "code",
      "metadata": {
        "id": "fFAwujam0rvg"
      },
      "source": [
        "#Compile our resnet model\n",
        "resnet_model.compile(loss='categorical_crossentropy',\n",
        "                     optimizer=tf.keras.optimizers.Adam(),\n",
        "                     metrics=['accuracy'])"
      ],
      "execution_count": 22,
      "outputs": []
    },
    {
      "cell_type": "code",
      "metadata": {
        "id": "fwhzv2L409FE"
      },
      "source": [
        "###Blowing our previous models out of the water with our first transfer learning model!\n",
        "#We just compiled, so now let's fit!"
      ],
      "execution_count": 23,
      "outputs": []
    },
    {
      "cell_type": "code",
      "metadata": {
        "colab": {
          "base_uri": "https://localhost:8080/"
        },
        "id": "ekRTGU4u1K_N",
        "outputId": "597ea31a-fcee-4ea3-d5bb-a125a9cad05a"
      },
      "source": [
        "# Let's fit our ResNet model to the data (10 percent of 10 classes)\n",
        "resnet_history = resnet_model.fit(train_data_10_percent,\n",
        "                                  epochs=5,\n",
        "                                  steps_per_epoch=len(train_data_10_percent),\n",
        "                                  validation_data=test_data,\n",
        "                                  validation_steps=len(test_data),\n",
        "                                  # Add TensorBoard callback to model (callbacks parameter takes a list)\n",
        "                                  callbacks=[create_tensorboard_callback(dir_name=\"tensorflow_hub\", # save experiment logs here\n",
        "                                                                         experiment_name=\"resnet50V2\")]) # name of log files"
      ],
      "execution_count": 30,
      "outputs": [
        {
          "output_type": "stream",
          "text": [
            "Saving TensorBoard log files to tensorflow_hub/resnet50V2/20210727-024759\n",
            "Epoch 1/5\n",
            "24/24 [==============================] - 34s 720ms/step - loss: 1.8648 - accuracy: 0.3640 - val_loss: 1.1560 - val_accuracy: 0.6516\n",
            "Epoch 2/5\n",
            "24/24 [==============================] - 14s 607ms/step - loss: 0.8658 - accuracy: 0.7533 - val_loss: 0.8433 - val_accuracy: 0.7344\n",
            "Epoch 3/5\n",
            "24/24 [==============================] - 14s 614ms/step - loss: 0.5910 - accuracy: 0.8373 - val_loss: 0.7605 - val_accuracy: 0.7544\n",
            "Epoch 4/5\n",
            "24/24 [==============================] - 14s 614ms/step - loss: 0.4598 - accuracy: 0.8720 - val_loss: 0.7169 - val_accuracy: 0.7644\n",
            "Epoch 5/5\n",
            "24/24 [==============================] - 15s 648ms/step - loss: 0.3651 - accuracy: 0.9133 - val_loss: 0.6811 - val_accuracy: 0.7708\n"
          ],
          "name": "stdout"
        }
      ]
    },
    {
      "cell_type": "code",
      "metadata": {
        "id": "I8yusCzc3jRe"
      },
      "source": [
        "#Wow!\n",
        "#This is incredible. This model killed all of the previous models we built by hand\n",
        "#and in less time and with only 10% of the training examples!"
      ],
      "execution_count": 31,
      "outputs": []
    },
    {
      "cell_type": "code",
      "metadata": {
        "id": "3h_Vnp8O32MY"
      },
      "source": [
        "#Let's create a function to plot our loss curves\n",
        "#Let's also put this in a helper.py"
      ],
      "execution_count": 33,
      "outputs": []
    },
    {
      "cell_type": "code",
      "metadata": {
        "id": "KhOfS1064G5M"
      },
      "source": [
        "import matplotlib.pyplot as plt\n",
        "\n",
        "#Plot the validation and training curves\n",
        "def plot_loss_curves(history):\n",
        "  '''\n",
        "  Returns separate loss curves for training and validation metrics.\n",
        "\n",
        "  Args:\n",
        "  history: TensorFlow History object.\n",
        "\n",
        "  Returns:\n",
        "  Plots of training/validation loss and accuracy.\n",
        "  '''\n",
        "\n",
        "  loss= history.history['loss']\n",
        "  val_loss=history.history['val_loss']\n",
        "\n",
        "  accuracy=history.history['accuracy']\n",
        "  val_accuracy=history.history['val_accuracy']\n",
        "\n",
        "  epochs = range(len(history.history['loss']))\n",
        "\n",
        "  #Plot loss\n",
        "  plt.plot(epochs, loss, label='training_loss')\n",
        "  plt.plot(epochs, val_loss, label='val_loss')\n",
        "  plt.title('Loss')\n",
        "  plt.xlabel('Epochs')\n",
        "  plt.legend()\n",
        "\n",
        "  #Plot accuracy\n",
        "  plt.figure()\n",
        "  plt.plot(epochs, accuracy, label='train_accuracy') #Pass in the number of epochs, accuracy, and a label\n",
        "  plt.plot(epochs, val_accuracy, label='val_accuracy')\n",
        "  plt.title('Accuracy')\n",
        "  plt.xlabel('Epochs')\n",
        "  plt.legend();"
      ],
      "execution_count": 34,
      "outputs": []
    },
    {
      "cell_type": "code",
      "metadata": {
        "colab": {
          "base_uri": "https://localhost:8080/",
          "height": 573
        },
        "id": "xHxggeBN5qtY",
        "outputId": "11173fac-4e42-4853-ff6f-c9e0cf117a42"
      },
      "source": [
        "plot_loss_curves(resnet_history)"
      ],
      "execution_count": 35,
      "outputs": [
        {
          "output_type": "display_data",
          "data": {
            "image/png": "[encoded data removed]",
            "text/plain": [
              "<Figure size 432x288 with 1 Axes>"
            ]
          },
          "metadata": {
            "tags": [],
            "needs_background": "light"
          }
        },
        {
          "output_type": "display_data",
          "data": {
            "image/png": "[encoded data removed]",
            "text/plain": [
              "<Figure size 432x288 with 1 Axes>"
            ]
          },
          "metadata": {
            "tags": [],
            "needs_background": "light"
          }
        }
      ]
    },
    {
      "cell_type": "code",
      "metadata": {
        "id": "xnzMCqb-5xFl"
      },
      "source": [
        "### Compare resnet vs efficientnet\n",
        "#So now let's create and test EfficientNetB0 TF Hub Feature extraction model"
      ],
      "execution_count": 36,
      "outputs": []
    },
    {
      "cell_type": "code",
      "metadata": {
        "colab": {
          "base_uri": "https://localhost:8080/"
        },
        "id": "qJc5L4mF6DMX",
        "outputId": "1051008c-0a60-4c5a-ddf1-33f806e39765"
      },
      "source": [
        "# Create model\n",
        "efficientnet_model = create_model(model_url=efficientnet_url, # use EfficientNetB0 TensorFlow Hub URL\n",
        "                                  num_classes=train_data_10_percent.num_classes)\n",
        "\n",
        "# Compile EfficientNet model\n",
        "efficientnet_model.compile(loss='categorical_crossentropy',\n",
        "                           optimizer=tf.keras.optimizers.Adam(),\n",
        "                           metrics=['accuracy'])\n",
        "\n",
        "# Fit EfficientNet model \n",
        "efficientnet_history = efficientnet_model.fit(train_data_10_percent, # only use 10% of training data\n",
        "                                              epochs=5, # train for 5 epochs\n",
        "                                              steps_per_epoch=len(train_data_10_percent),\n",
        "                                              validation_data=test_data,\n",
        "                                              validation_steps=len(test_data),\n",
        "                                              callbacks=[create_tensorboard_callback(dir_name=\"tensorflow_hub\", \n",
        "                                                                                     # Track logs under different experiment name\n",
        "                                                                                     experiment_name=\"efficientnetB0\")])"
      ],
      "execution_count": 42,
      "outputs": [
        {
          "output_type": "stream",
          "text": [
            "Saving TensorBoard log files to tensorflow_hub/efficientnetB0/20210727-031655\n",
            "WARNING:tensorflow:Model failed to serialize as JSON. Ignoring... Can only generate a valid config for `hub.KerasLayer(handle, ...)`that uses a string `handle`.\n",
            "\n",
            "Got `type(handle)`: <class 'tensorflow.python.keras.engine.sequential.Sequential'>\n"
          ],
          "name": "stdout"
        },
        {
          "output_type": "stream",
          "text": [
            "WARNING:tensorflow:Model failed to serialize as JSON. Ignoring... Can only generate a valid config for `hub.KerasLayer(handle, ...)`that uses a string `handle`.\n",
            "\n",
            "Got `type(handle)`: <class 'tensorflow.python.keras.engine.sequential.Sequential'>\n"
          ],
          "name": "stderr"
        },
        {
          "output_type": "stream",
          "text": [
            "Epoch 1/5\n",
            "24/24 [==============================] - 28s 1s/step - loss: 2.3071 - accuracy: 0.1000 - val_loss: 2.3064 - val_accuracy: 0.1000\n",
            "Epoch 2/5\n",
            "24/24 [==============================] - 15s 636ms/step - loss: 2.3061 - accuracy: 0.1000 - val_loss: 2.3057 - val_accuracy: 0.1000\n",
            "Epoch 3/5\n",
            "24/24 [==============================] - 14s 612ms/step - loss: 2.3056 - accuracy: 0.1000 - val_loss: 2.3052 - val_accuracy: 0.1000\n",
            "Epoch 4/5\n",
            "24/24 [==============================] - 15s 634ms/step - loss: 2.3052 - accuracy: 0.1000 - val_loss: 2.3048 - val_accuracy: 0.1000\n",
            "Epoch 5/5\n",
            "24/24 [==============================] - 24s 1s/step - loss: 2.3046 - accuracy: 0.1000 - val_loss: 2.3044 - val_accuracy: 0.1000\n"
          ],
          "name": "stdout"
        }
      ]
    },
    {
      "cell_type": "code",
      "metadata": {
        "colab": {
          "base_uri": "https://localhost:8080/",
          "height": 573
        },
        "id": "ib5S1XNf9d8e",
        "outputId": "c11942a8-b4ca-4d60-895e-85404c754fcf"
      },
      "source": [
        "plot_loss_curves(efficientnet_history)"
      ],
      "execution_count": 45,
      "outputs": [
        {
          "output_type": "display_data",
          "data": {
            "image/png": "[encoded data removed]",
            "text/plain": [
              "<Figure size 432x288 with 1 Axes>"
            ]
          },
          "metadata": {
            "tags": [],
            "needs_background": "light"
          }
        },
        {
          "output_type": "display_data",
          "data": {
            "image/png": "[encoded data removed]",
            "text/plain": [
              "<Figure size 432x288 with 1 Axes>"
            ]
          },
          "metadata": {
            "tags": [],
            "needs_background": "light"
          }
        }
      ]
    },
    {
      "cell_type": "code",
      "metadata": {
        "colab": {
          "base_uri": "https://localhost:8080/"
        },
        "id": "O0pDMv2P-gvN",
        "outputId": "34f8c42e-3675-491f-8a01-0e9780f9ecf9"
      },
      "source": [
        "#How many layers does our efficientnetb0 feature extractor have?\n",
        "\n",
        "len(efficientnet_model.layers[0].weights)"
      ],
      "execution_count": 52,
      "outputs": [
        {
          "output_type": "execute_result",
          "data": {
            "text/plain": [
              "313"
            ]
          },
          "metadata": {
            "tags": []
          },
          "execution_count": 52
        }
      ]
    },
    {
      "cell_type": "code",
      "metadata": {
        "id": "wqJWSKmW_AqO"
      },
      "source": [
        "#The previous hand-made architecture was only 6 layers!"
      ],
      "execution_count": 53,
      "outputs": []
    },
    {
      "cell_type": "code",
      "metadata": {
        "colab": {
          "base_uri": "https://localhost:8080/"
        },
        "id": "7NyISP_l_JIn",
        "outputId": "15abab39-045b-4ecd-e222-5da2d61920ee"
      },
      "source": [
        "# Upload TensorBoard dev records\n",
        "!tensorboard dev upload --logdir ./tensorflow_hub/ \\\n",
        "  --name \"EfficientNetB0 vs. ResNet50V2\" \\\n",
        "  --description \"Comparing two different TF Hub feature extraction models architectures using 10% of training images\" \\\n",
        "  --one_shot"
      ],
      "execution_count": 54,
      "outputs": [
        {
          "output_type": "stream",
          "text": [
            "2021-07-27 03:22:55.611142: I tensorflow/stream_executor/platform/default/dso_loader.cc:53] Successfully opened dynamic library libcudart.so.11.0\n",
            "\n",
            "***** TensorBoard Uploader *****\n",
            "\n",
            "This will upload your TensorBoard logs to https://tensorboard.dev/ from\n",
            "the following directory:\n",
            "\n",
            "./tensorflow_hub/\n",
            "\n",
            "This TensorBoard will be visible to everyone. Do not upload sensitive\n",
            "data.\n",
            "\n",
            "Your use of this service is subject to Google's Terms of Service\n",
            "<https://policies.google.com/terms> and Privacy Policy\n",
            "<https://policies.google.com/privacy>, and TensorBoard.dev's Terms of Service\n",
            "<https://tensorboard.dev/policy/terms/>.\n",
            "\n",
            "This notice will not be shown again while you are logged into the uploader.\n",
            "To log out, run `tensorboard dev auth revoke`.\n",
            "\n",
            "Continue? (yes/NO) yes\n",
            "\n",
            "Please visit this URL to authorize this application: https://accounts.google.com/o/oauth2/auth?response_type=code&client_id=373649185512-8v619h5kft38l4456nm2dj4ubeqsrvh6.apps.googleusercontent.com&redirect_uri=urn%3Aietf%3Awg%3Aoauth%3A2.0%3Aoob&scope=openid+https%3A%2F%2Fwww.googleapis.com%2Fauth%2Fuserinfo.email&state=QdoKD7RiW5lLEAjOl7069iJDuAnBdl&prompt=consent&access_type=offline\n",
            "Enter the authorization code: 4/1AX4XfWiIVO8DrqdHMVXm1slQYUw6DoTFvF4Pw3O_fasjKzZ5jyDYOx0er1U\n",
            "\n",
            "Data for the \"text\" plugin is now uploaded to TensorBoard.dev! Note that uploaded data is public. If you do not want to upload data for this plugin, use the \"--plugins\" command line argument.\n",
            "\n",
            "New experiment created. View your TensorBoard at: https://tensorboard.dev/experiment/q4T0EEWgSla1Cmxb34EAKA/\n",
            "\n",
            "\u001b[1m[2021-07-27T03:23:27]\u001b[0m Started scanning logdir.\n",
            "\u001b[1m[2021-07-27T03:23:30]\u001b[0m Total uploaded: 90 scalars, 0 tensors, 3 binary objects (10.0 MB)\n",
            "\u001b[1m[2021-07-27T03:23:30]\u001b[0m Done scanning logdir.\n",
            "\n",
            "\n",
            "Done. View your TensorBoard at https://tensorboard.dev/experiment/q4T0EEWgSla1Cmxb34EAKA/\n"
          ],
          "name": "stdout"
        }
      ]
    },
    {
      "cell_type": "code",
      "metadata": {
        "id": "FT5FXN5f_qm8"
      },
      "source": [
        "#Tensorboard.dev to compare EfficientNet vs ResNet"
      ],
      "execution_count": 56,
      "outputs": []
    }
  ]
}